{
 "cells": [
  {
   "cell_type": "markdown",
   "id": "c0eddfab",
   "metadata": {},
   "source": [
    "# Import"
   ]
  },
  {
   "cell_type": "code",
   "execution_count": 21,
   "id": "c60e6daf",
   "metadata": {
    "execution": {
     "iopub.execute_input": "2025-04-25T04:03:14.799803Z",
     "iopub.status.busy": "2025-04-25T04:03:14.799440Z",
     "iopub.status.idle": "2025-04-25T04:03:19.325727Z",
     "shell.execute_reply": "2025-04-25T04:03:19.324829Z",
     "shell.execute_reply.started": "2025-04-25T04:03:14.799739Z"
    },
    "trusted": true
   },
   "outputs": [],
   "source": [
    "import torch\n",
    "import torch.nn as nn\n",
    "import torch.nn.functional as F\n",
    "from torchvision import transforms\n",
    "import torch.optim as optim  # This is the critical import\n",
    "from PIL import Image      # Should show 9.x.x or later\n",
    "from torchsummary import summary\n",
    "# import os\n",
    "# import matplotlib.pyplot as plt\n",
    "from torchvision import datasets\n",
    "from torchvision.datasets import ImageFolder\n",
    "from torch.utils.data import DataLoader\n"
   ]
  },
  {
   "cell_type": "code",
   "execution_count": 22,
   "id": "80213f91",
   "metadata": {
    "execution": {
     "iopub.execute_input": "2025-04-25T04:21:46.670179Z",
     "iopub.status.busy": "2025-04-25T04:21:46.669763Z",
     "iopub.status.idle": "2025-04-25T04:21:46.681490Z",
     "shell.execute_reply": "2025-04-25T04:21:46.680473Z",
     "shell.execute_reply.started": "2025-04-25T04:21:46.670153Z"
    },
    "trusted": true
   },
   "outputs": [],
   "source": [
    "class ResidualBlock(nn.Module):\n",
    "    def __init__(self, in_channels, out_channels, num_convs):\n",
    "        super().__init__()\n",
    "        self.convs = nn.Sequential()\n",
    "        \n",
    "        # Membuat layer konvolusi sesuai jumlah yang ditentukan\n",
    "        for i in range(num_convs):\n",
    "            input_channels = in_channels if i == 0 else out_channels\n",
    "            self.convs.add_module(f'conv{i+1}', nn.Conv2d(\n",
    "                input_channels, out_channels, kernel_size=3, padding=1))\n",
    "            self.convs.add_module(f'bn{i+1}', nn.BatchNorm2d(out_channels))\n",
    "            self.convs.add_module(f'relu{i+1}', nn.ReLU(inplace=True))\n",
    "        \n",
    "        # Max pooling layer\n",
    "        self.pool = nn.MaxPool2d(kernel_size=2, stride=2)\n",
    "        \n",
    "        # Skip connection dengan 1x1 conv untuk menyesuaikan dimensi\n",
    "        self.skip = nn.Sequential(\n",
    "            nn.Conv2d(in_channels, out_channels, kernel_size=1, stride=2),\n",
    "            nn.BatchNorm2d(out_channels)\n",
    "        )\n",
    "\n",
    "    def forward(self, x):\n",
    "        identity = self.skip(x)  # Proses skip connection\n",
    "        out = self.convs(x)      # Jalur utama melalui konvolusi\n",
    "        out = self.pool(out)     # Pooling setelah konvolusi\n",
    "        out += identity          # Tambahkan skip connection\n",
    "        return F.relu(out)       # Aktivasi akhir\n",
    "\n",
    "class ResidualVGG16(nn.Module):\n",
    "    def __init__(self, num_classes=2):\n",
    "        super().__init__()\n",
    "        \n",
    "        # Membangun blok-blok residual sesuai arsitektur VGG16\n",
    "        self.blocks = nn.Sequential(\n",
    "            ResidualBlock(3, 32, 2),       # Blok 1: 2 konvolusi 64 channel\n",
    "            ResidualBlock(32, 64, 2),     # Blok 2: 2 konvolusi 128 channel\n",
    "            ResidualBlock(64, 128, 3),    # Blok 3: 3 konvolusi 256 channel\n",
    "            ResidualBlock(128, 256, 3),    # Blok 4: 3 konvolusi 512 channel\n",
    "            ResidualBlock(256, 256, 3),    # Blok 5: 3 konvolusi 512 channel\n",
    "        )\n",
    "        \n",
    "        # Classifier dengan fully-connected layers\n",
    "        self.classifier = nn.Sequential(\n",
    "            nn.Linear(256 * 7 * 7, 4096),\n",
    "            nn.ReLU(inplace=True),\n",
    "            nn.Dropout(),\n",
    "            nn.Linear(4096, 4096),\n",
    "            nn.ReLU(inplace=True),\n",
    "            nn.Dropout(),\n",
    "            nn.Linear(4096, num_classes),\n",
    "        )\n",
    "\n",
    "    def forward(self, x):\n",
    "        x = self.blocks(x)               # Loloskan melalui semua blok residual\n",
    "        x = torch.flatten(x, 1)          # Flatten feature maps\n",
    "        x = self.classifier(x)           # Loloskan melalui classifier\n",
    "        return x\n",
    "\n"
   ]
  },
  {
   "cell_type": "code",
   "execution_count": 23,
   "id": "7092c94b",
   "metadata": {
    "execution": {
     "iopub.execute_input": "2025-04-25T04:21:51.171807Z",
     "iopub.status.busy": "2025-04-25T04:21:51.171483Z",
     "iopub.status.idle": "2025-04-25T04:21:52.263938Z",
     "shell.execute_reply": "2025-04-25T04:21:52.262988Z",
     "shell.execute_reply.started": "2025-04-25T04:21:51.171784Z"
    },
    "trusted": true
   },
   "outputs": [
    {
     "name": "stdout",
     "output_type": "stream",
     "text": [
      "----------------------------------------------------------------\n",
      "        Layer (type)               Output Shape         Param #\n",
      "================================================================\n",
      "            Conv2d-1         [-1, 32, 112, 112]             128\n",
      "       BatchNorm2d-2         [-1, 32, 112, 112]              64\n",
      "            Conv2d-3         [-1, 32, 224, 224]             896\n",
      "       BatchNorm2d-4         [-1, 32, 224, 224]              64\n",
      "              ReLU-5         [-1, 32, 224, 224]               0\n",
      "            Conv2d-6         [-1, 32, 224, 224]           9,248\n",
      "       BatchNorm2d-7         [-1, 32, 224, 224]              64\n",
      "              ReLU-8         [-1, 32, 224, 224]               0\n",
      "         MaxPool2d-9         [-1, 32, 112, 112]               0\n",
      "    ResidualBlock-10         [-1, 32, 112, 112]               0\n",
      "           Conv2d-11           [-1, 64, 56, 56]           2,112\n",
      "      BatchNorm2d-12           [-1, 64, 56, 56]             128\n",
      "           Conv2d-13         [-1, 64, 112, 112]          18,496\n",
      "      BatchNorm2d-14         [-1, 64, 112, 112]             128\n",
      "             ReLU-15         [-1, 64, 112, 112]               0\n",
      "           Conv2d-16         [-1, 64, 112, 112]          36,928\n",
      "      BatchNorm2d-17         [-1, 64, 112, 112]             128\n",
      "             ReLU-18         [-1, 64, 112, 112]               0\n",
      "        MaxPool2d-19           [-1, 64, 56, 56]               0\n",
      "    ResidualBlock-20           [-1, 64, 56, 56]               0\n",
      "           Conv2d-21          [-1, 128, 28, 28]           8,320\n",
      "      BatchNorm2d-22          [-1, 128, 28, 28]             256\n",
      "           Conv2d-23          [-1, 128, 56, 56]          73,856\n",
      "      BatchNorm2d-24          [-1, 128, 56, 56]             256\n",
      "             ReLU-25          [-1, 128, 56, 56]               0\n",
      "           Conv2d-26          [-1, 128, 56, 56]         147,584\n",
      "      BatchNorm2d-27          [-1, 128, 56, 56]             256\n",
      "             ReLU-28          [-1, 128, 56, 56]               0\n",
      "           Conv2d-29          [-1, 128, 56, 56]         147,584\n",
      "      BatchNorm2d-30          [-1, 128, 56, 56]             256\n",
      "             ReLU-31          [-1, 128, 56, 56]               0\n",
      "        MaxPool2d-32          [-1, 128, 28, 28]               0\n",
      "    ResidualBlock-33          [-1, 128, 28, 28]               0\n",
      "           Conv2d-34          [-1, 256, 14, 14]          33,024\n",
      "      BatchNorm2d-35          [-1, 256, 14, 14]             512\n",
      "           Conv2d-36          [-1, 256, 28, 28]         295,168\n",
      "      BatchNorm2d-37          [-1, 256, 28, 28]             512\n",
      "             ReLU-38          [-1, 256, 28, 28]               0\n",
      "           Conv2d-39          [-1, 256, 28, 28]         590,080\n",
      "      BatchNorm2d-40          [-1, 256, 28, 28]             512\n",
      "             ReLU-41          [-1, 256, 28, 28]               0\n",
      "           Conv2d-42          [-1, 256, 28, 28]         590,080\n",
      "      BatchNorm2d-43          [-1, 256, 28, 28]             512\n",
      "             ReLU-44          [-1, 256, 28, 28]               0\n",
      "        MaxPool2d-45          [-1, 256, 14, 14]               0\n",
      "    ResidualBlock-46          [-1, 256, 14, 14]               0\n",
      "           Conv2d-47            [-1, 256, 7, 7]          65,792\n",
      "      BatchNorm2d-48            [-1, 256, 7, 7]             512\n",
      "           Conv2d-49          [-1, 256, 14, 14]         590,080\n",
      "      BatchNorm2d-50          [-1, 256, 14, 14]             512\n",
      "             ReLU-51          [-1, 256, 14, 14]               0\n",
      "           Conv2d-52          [-1, 256, 14, 14]         590,080\n",
      "      BatchNorm2d-53          [-1, 256, 14, 14]             512\n",
      "             ReLU-54          [-1, 256, 14, 14]               0\n",
      "           Conv2d-55          [-1, 256, 14, 14]         590,080\n",
      "      BatchNorm2d-56          [-1, 256, 14, 14]             512\n",
      "             ReLU-57          [-1, 256, 14, 14]               0\n",
      "        MaxPool2d-58            [-1, 256, 7, 7]               0\n",
      "    ResidualBlock-59            [-1, 256, 7, 7]               0\n",
      "           Linear-60                 [-1, 4096]      51,384,320\n",
      "             ReLU-61                 [-1, 4096]               0\n",
      "          Dropout-62                 [-1, 4096]               0\n",
      "           Linear-63                 [-1, 4096]      16,781,312\n",
      "             ReLU-64                 [-1, 4096]               0\n",
      "          Dropout-65                 [-1, 4096]               0\n",
      "           Linear-66                    [-1, 2]           8,194\n",
      "================================================================\n",
      "Total params: 71,969,058\n",
      "Trainable params: 71,969,058\n",
      "Non-trainable params: 0\n",
      "----------------------------------------------------------------\n",
      "Input size (MB): 0.57\n",
      "Forward/backward pass size (MB): 178.58\n",
      "Params size (MB): 274.54\n",
      "Estimated Total Size (MB): 453.69\n",
      "----------------------------------------------------------------\n"
     ]
    }
   ],
   "source": [
    "\n",
    "model = ResidualVGG16()  # Your model\n",
    "summary(model, input_size=(3, 224, 224))  "
   ]
  },
  {
   "cell_type": "code",
   "execution_count": 24,
   "id": "56879cd9",
   "metadata": {
    "execution": {
     "iopub.execute_input": "2025-04-25T04:03:21.494323Z",
     "iopub.status.busy": "2025-04-25T04:03:21.494037Z",
     "iopub.status.idle": "2025-04-25T04:03:21.498572Z",
     "shell.execute_reply": "2025-04-25T04:03:21.497674Z",
     "shell.execute_reply.started": "2025-04-25T04:03:21.494300Z"
    },
    "trusted": true
   },
   "outputs": [],
   "source": [
    "# Contoh penggunaan\n",
    "# if __name__ == \"__main__\":\n",
    "#     model = ResidualVGG16(num_classes=2)\n",
    "#     input_tensor = torch.randn(1, 3, 224, 224)  # Contoh input\n",
    "#     output = model(input_tensor)\n",
    "#     print(f\"Output shape: {output.shape}\")   "
   ]
  },
  {
   "cell_type": "markdown",
   "id": "c5f40000",
   "metadata": {},
   "source": [
    "# Load Data"
   ]
  },
  {
   "cell_type": "code",
   "execution_count": 25,
   "id": "05a3dc68",
   "metadata": {
    "execution": {
     "iopub.execute_input": "2025-04-25T04:03:21.499661Z",
     "iopub.status.busy": "2025-04-25T04:03:21.499357Z",
     "iopub.status.idle": "2025-04-25T04:03:21.518305Z",
     "shell.execute_reply": "2025-04-25T04:03:21.517248Z",
     "shell.execute_reply.started": "2025-04-25T04:03:21.499640Z"
    },
    "trusted": true
   },
   "outputs": [],
   "source": [
    "# tumor_dir_path = \"./Dataset/processed/yes\"\n",
    "# no_tumor_dir_path = \"./Dataset/processed/no\"\n",
    "\n",
    "# tumor_image_paths =  os.listdir(tumor_dir_path)\n",
    "# tumor_image_paths = [os.path.join(tumor_dir_path, path) for path in tumor_image_paths]\n",
    "\n",
    "# no_tumor_image_paths =  os.listdir(no_tumor_dir_path)\n",
    "# no_tumor_image_paths = [os.path.join(no_tumor_dir_path, path) for path in no_tumor_image_paths]\n",
    "# no_tumor_image_paths\n",
    "\n",
    "# display(tumor_image_paths, no_tumor_image_paths)"
   ]
  },
  {
   "cell_type": "code",
   "execution_count": 26,
   "id": "a04113df",
   "metadata": {
    "execution": {
     "iopub.execute_input": "2025-04-25T04:03:21.519530Z",
     "iopub.status.busy": "2025-04-25T04:03:21.519228Z",
     "iopub.status.idle": "2025-04-25T04:03:21.534369Z",
     "shell.execute_reply": "2025-04-25T04:03:21.533495Z",
     "shell.execute_reply.started": "2025-04-25T04:03:21.519507Z"
    },
    "trusted": true
   },
   "outputs": [],
   "source": [
    "# dataset_dir_path = '/kaggle/input/brain-tumor-dataset'\n",
    "dataset_dir_path = './Dataset/final'"
   ]
  },
  {
   "cell_type": "code",
   "execution_count": null,
   "id": "302c8aa1",
   "metadata": {
    "execution": {
     "iopub.execute_input": "2025-04-25T04:03:21.535671Z",
     "iopub.status.busy": "2025-04-25T04:03:21.535322Z",
     "iopub.status.idle": "2025-04-25T04:03:21.551325Z",
     "shell.execute_reply": "2025-04-25T04:03:21.550423Z",
     "shell.execute_reply.started": "2025-04-25T04:03:21.535641Z"
    },
    "trusted": true
   },
   "outputs": [],
   "source": [
    "# Update the data preparation function\n",
    "def prepare_data(data_dir='your_dataset'):\n",
    "    train_transform = transforms.Compose([\n",
    "        transforms.Resize((224, 224)),\n",
    "        transforms.ToTensor(),\n",
    "        # transforms.Normalize(mean=[0.485, 0.456, 0.406], \n",
    "        #                      std=[0.229, 0.224, 0.225])\n",
    "    ])\n",
    "\n",
    "    val_transform = transforms.Compose([\n",
    "        transforms.Resize((224, 224)),\n",
    "        transforms.ToTensor(),\n",
    "        # transforms.Normalize(mean=[0.485, 0.456, 0.406],\n",
    "        #                      std=[0.229, 0.224, 0.225])\n",
    "    ])\n",
    "\n",
    "    # Load datasets\n",
    "    train_dataset = datasets.ImageFolder(\n",
    "        root=f'{data_dir}/train',\n",
    "        transform=train_transform\n",
    "    )\n",
    "    \n",
    "    val_dataset = datasets.ImageFolder(\n",
    "        root=f'{data_dir}/val',\n",
    "        transform=val_transform\n",
    "    )\n",
    "\n",
    "    # Create data loaders\n",
    "    train_loader = DataLoader(train_dataset, batch_size=10, shuffle=True)\n",
    "    val_loader = DataLoader(val_dataset, batch_size=10, shuffle=False)\n",
    "    \n",
    "    return train_loader, val_loader"
   ]
  },
  {
   "cell_type": "code",
   "execution_count": 28,
   "id": "e10c55bd",
   "metadata": {
    "execution": {
     "iopub.execute_input": "2025-04-25T04:03:21.552836Z",
     "iopub.status.busy": "2025-04-25T04:03:21.552490Z",
     "iopub.status.idle": "2025-04-25T04:03:24.027658Z",
     "shell.execute_reply": "2025-04-25T04:03:24.026717Z",
     "shell.execute_reply.started": "2025-04-25T04:03:21.552804Z"
    },
    "trusted": true
   },
   "outputs": [],
   "source": [
    "train_loader, val_loader = prepare_data(data_dir=dataset_dir_path)"
   ]
  },
  {
   "cell_type": "code",
   "execution_count": null,
   "id": "ab71f16b",
   "metadata": {
    "execution": {
     "iopub.execute_input": "2025-04-25T04:22:05.413187Z",
     "iopub.status.busy": "2025-04-25T04:22:05.412186Z"
    },
    "trusted": true
   },
   "outputs": [
    {
     "ename": "KeyboardInterrupt",
     "evalue": "",
     "output_type": "error",
     "traceback": [
      "\u001b[31m---------------------------------------------------------------------------\u001b[39m",
      "\u001b[31mKeyboardInterrupt\u001b[39m                         Traceback (most recent call last)",
      "\u001b[36mCell\u001b[39m\u001b[36m \u001b[39m\u001b[32mIn[29]\u001b[39m\u001b[32m, line 6\u001b[39m\n\u001b[32m      2\u001b[39m NUM_EPOCHS = \u001b[32m10\u001b[39m\n\u001b[32m      5\u001b[39m \u001b[38;5;66;03m# Initialize model, loss, optimizer\u001b[39;00m\n\u001b[32m----> \u001b[39m\u001b[32m6\u001b[39m model = \u001b[43mResidualVGG16\u001b[49m\u001b[43m(\u001b[49m\u001b[43mnum_classes\u001b[49m\u001b[43m=\u001b[49m\u001b[32;43m2\u001b[39;49m\u001b[43m)\u001b[49m\n\u001b[32m      7\u001b[39m criterion = nn.CrossEntropyLoss()\n\u001b[32m      8\u001b[39m optimizer = optim.Adam(model.parameters(), lr=\u001b[32m0.0001\u001b[39m)\n",
      "\u001b[36mCell\u001b[39m\u001b[36m \u001b[39m\u001b[32mIn[22]\u001b[39m\u001b[32m, line 45\u001b[39m, in \u001b[36mResidualVGG16.__init__\u001b[39m\u001b[34m(self, num_classes)\u001b[39m\n\u001b[32m     35\u001b[39m \u001b[38;5;28mself\u001b[39m.blocks = nn.Sequential(\n\u001b[32m     36\u001b[39m     ResidualBlock(\u001b[32m3\u001b[39m, \u001b[32m32\u001b[39m, \u001b[32m2\u001b[39m),       \u001b[38;5;66;03m# Blok 1: 2 konvolusi 64 channel\u001b[39;00m\n\u001b[32m     37\u001b[39m     ResidualBlock(\u001b[32m32\u001b[39m, \u001b[32m64\u001b[39m, \u001b[32m2\u001b[39m),     \u001b[38;5;66;03m# Blok 2: 2 konvolusi 128 channel\u001b[39;00m\n\u001b[32m   (...)\u001b[39m\u001b[32m     40\u001b[39m     ResidualBlock(\u001b[32m256\u001b[39m, \u001b[32m256\u001b[39m, \u001b[32m3\u001b[39m),    \u001b[38;5;66;03m# Blok 5: 3 konvolusi 512 channel\u001b[39;00m\n\u001b[32m     41\u001b[39m )\n\u001b[32m     43\u001b[39m \u001b[38;5;66;03m# Classifier dengan fully-connected layers\u001b[39;00m\n\u001b[32m     44\u001b[39m \u001b[38;5;28mself\u001b[39m.classifier = nn.Sequential(\n\u001b[32m---> \u001b[39m\u001b[32m45\u001b[39m     \u001b[43mnn\u001b[49m\u001b[43m.\u001b[49m\u001b[43mLinear\u001b[49m\u001b[43m(\u001b[49m\u001b[32;43m256\u001b[39;49m\u001b[43m \u001b[49m\u001b[43m*\u001b[49m\u001b[43m \u001b[49m\u001b[32;43m7\u001b[39;49m\u001b[43m \u001b[49m\u001b[43m*\u001b[49m\u001b[43m \u001b[49m\u001b[32;43m7\u001b[39;49m\u001b[43m,\u001b[49m\u001b[43m \u001b[49m\u001b[32;43m4096\u001b[39;49m\u001b[43m)\u001b[49m,\n\u001b[32m     46\u001b[39m     nn.ReLU(inplace=\u001b[38;5;28;01mTrue\u001b[39;00m),\n\u001b[32m     47\u001b[39m     nn.Dropout(),\n\u001b[32m     48\u001b[39m     nn.Linear(\u001b[32m4096\u001b[39m, \u001b[32m4096\u001b[39m),\n\u001b[32m     49\u001b[39m     nn.ReLU(inplace=\u001b[38;5;28;01mTrue\u001b[39;00m),\n\u001b[32m     50\u001b[39m     nn.Dropout(),\n\u001b[32m     51\u001b[39m     nn.Linear(\u001b[32m4096\u001b[39m, num_classes),\n\u001b[32m     52\u001b[39m )\n",
      "\u001b[36mFile \u001b[39m\u001b[32mc:\\Users\\ASUS\\Documents\\Project Tugas Akhir Skripsi\\ResBlockRCNN\\envta\\Lib\\site-packages\\torch\\nn\\modules\\linear.py:112\u001b[39m, in \u001b[36mLinear.__init__\u001b[39m\u001b[34m(self, in_features, out_features, bias, device, dtype)\u001b[39m\n\u001b[32m    110\u001b[39m \u001b[38;5;28;01melse\u001b[39;00m:\n\u001b[32m    111\u001b[39m     \u001b[38;5;28mself\u001b[39m.register_parameter(\u001b[33m\"\u001b[39m\u001b[33mbias\u001b[39m\u001b[33m\"\u001b[39m, \u001b[38;5;28;01mNone\u001b[39;00m)\n\u001b[32m--> \u001b[39m\u001b[32m112\u001b[39m \u001b[38;5;28;43mself\u001b[39;49m\u001b[43m.\u001b[49m\u001b[43mreset_parameters\u001b[49m\u001b[43m(\u001b[49m\u001b[43m)\u001b[49m\n",
      "\u001b[36mFile \u001b[39m\u001b[32mc:\\Users\\ASUS\\Documents\\Project Tugas Akhir Skripsi\\ResBlockRCNN\\envta\\Lib\\site-packages\\torch\\nn\\modules\\linear.py:118\u001b[39m, in \u001b[36mLinear.reset_parameters\u001b[39m\u001b[34m(self)\u001b[39m\n\u001b[32m    114\u001b[39m \u001b[38;5;28;01mdef\u001b[39;00m\u001b[38;5;250m \u001b[39m\u001b[34mreset_parameters\u001b[39m(\u001b[38;5;28mself\u001b[39m) -> \u001b[38;5;28;01mNone\u001b[39;00m:\n\u001b[32m    115\u001b[39m     \u001b[38;5;66;03m# Setting a=sqrt(5) in kaiming_uniform is the same as initializing with\u001b[39;00m\n\u001b[32m    116\u001b[39m     \u001b[38;5;66;03m# uniform(-1/sqrt(in_features), 1/sqrt(in_features)). For details, see\u001b[39;00m\n\u001b[32m    117\u001b[39m     \u001b[38;5;66;03m# https://github.com/pytorch/pytorch/issues/57109\u001b[39;00m\n\u001b[32m--> \u001b[39m\u001b[32m118\u001b[39m     \u001b[43minit\u001b[49m\u001b[43m.\u001b[49m\u001b[43mkaiming_uniform_\u001b[49m\u001b[43m(\u001b[49m\u001b[38;5;28;43mself\u001b[39;49m\u001b[43m.\u001b[49m\u001b[43mweight\u001b[49m\u001b[43m,\u001b[49m\u001b[43m \u001b[49m\u001b[43ma\u001b[49m\u001b[43m=\u001b[49m\u001b[43mmath\u001b[49m\u001b[43m.\u001b[49m\u001b[43msqrt\u001b[49m\u001b[43m(\u001b[49m\u001b[32;43m5\u001b[39;49m\u001b[43m)\u001b[49m\u001b[43m)\u001b[49m\n\u001b[32m    119\u001b[39m     \u001b[38;5;28;01mif\u001b[39;00m \u001b[38;5;28mself\u001b[39m.bias \u001b[38;5;129;01mis\u001b[39;00m \u001b[38;5;129;01mnot\u001b[39;00m \u001b[38;5;28;01mNone\u001b[39;00m:\n\u001b[32m    120\u001b[39m         fan_in, _ = init._calculate_fan_in_and_fan_out(\u001b[38;5;28mself\u001b[39m.weight)\n",
      "\u001b[36mFile \u001b[39m\u001b[32mc:\\Users\\ASUS\\Documents\\Project Tugas Akhir Skripsi\\ResBlockRCNN\\envta\\Lib\\site-packages\\torch\\nn\\init.py:518\u001b[39m, in \u001b[36mkaiming_uniform_\u001b[39m\u001b[34m(tensor, a, mode, nonlinearity, generator)\u001b[39m\n\u001b[32m    516\u001b[39m bound = math.sqrt(\u001b[32m3.0\u001b[39m) * std  \u001b[38;5;66;03m# Calculate uniform bounds from standard deviation\u001b[39;00m\n\u001b[32m    517\u001b[39m \u001b[38;5;28;01mwith\u001b[39;00m torch.no_grad():\n\u001b[32m--> \u001b[39m\u001b[32m518\u001b[39m     \u001b[38;5;28;01mreturn\u001b[39;00m \u001b[43mtensor\u001b[49m\u001b[43m.\u001b[49m\u001b[43muniform_\u001b[49m\u001b[43m(\u001b[49m\u001b[43m-\u001b[49m\u001b[43mbound\u001b[49m\u001b[43m,\u001b[49m\u001b[43m \u001b[49m\u001b[43mbound\u001b[49m\u001b[43m,\u001b[49m\u001b[43m \u001b[49m\u001b[43mgenerator\u001b[49m\u001b[43m=\u001b[49m\u001b[43mgenerator\u001b[49m\u001b[43m)\u001b[49m\n",
      "\u001b[31mKeyboardInterrupt\u001b[39m: "
     ]
    }
   ],
   "source": [
    "# Hyperparameters\n",
    "NUM_EPOCHS = 10\n",
    "\n",
    "\n",
    "# Initialize model, loss, optimizer\n",
    "model = ResidualVGG16(num_classes=2)\n",
    "criterion = nn.CrossEntropyLoss()\n",
    "optimizer = optim.Adam(model.parameters(), lr=0.0001)\n",
    "\n",
    "# Training loop\n",
    "for epoch in range(NUM_EPOCHS):\n",
    "    model.train()  \n",
    "    running_loss = 0.0\n",
    "    total_batches = len(train_loader)\n",
    "    \n",
    "    for batch_idx, (images, labels) in enumerate(train_loader):\n",
    "        # Move data to device (if using GPU)\n",
    "        images = images\n",
    "        labels = labels\n",
    "        \n",
    "        # Forward pass\n",
    "        optimizer.zero_grad()\n",
    "        outputs = model(images)\n",
    "        loss = criterion(outputs, labels)\n",
    "        \n",
    "        # Backward pass and optimize\n",
    "        loss.backward()\n",
    "        optimizer.step()\n",
    "        \n",
    "        # Print statistics\n",
    "        running_loss += loss.item()\n",
    "        \n",
    "        # Print every 10 batches\n",
    "        if (batch_idx + 1) % 10 == 0:\n",
    "            current_loss = running_loss / 10\n",
    "            print(f'Epoch [{epoch+1}/{NUM_EPOCHS}], '\n",
    "                  f'Batch [{batch_idx+1}/{total_batches}], '\n",
    "                  f'Loss: {current_loss:.4f}')\n",
    "            running_loss = 0.0\n",
    "    \n",
    "    # Print epoch statistics\n",
    "    epoch_loss = running_loss / len(train_loader)\n",
    "    print(f'\\nEpoch [{epoch+1}/{NUM_EPOCHS}], '\n",
    "          f'Average Loss: {epoch_loss:.4f}\\n')"
   ]
  },
  {
   "cell_type": "code",
   "execution_count": null,
   "id": "e5fb6382",
   "metadata": {},
   "outputs": [
    {
     "name": "stdout",
     "output_type": "stream",
     "text": [
      "2.7.0+cpu\n"
     ]
    }
   ],
   "source": [
    "import torch\n",
    "print(torch.__version__)"
   ]
  },
  {
   "cell_type": "code",
   "execution_count": null,
   "id": "1ea03fd4",
   "metadata": {},
   "outputs": [],
   "source": []
  }
 ],
 "metadata": {
  "kaggle": {
   "accelerator": "none",
   "dataSources": [
    {
     "datasetId": 7245889,
     "sourceId": 11555904,
     "sourceType": "datasetVersion"
    }
   ],
   "dockerImageVersionId": 31012,
   "isGpuEnabled": false,
   "isInternetEnabled": false,
   "language": "python",
   "sourceType": "notebook"
  },
  "kernelspec": {
   "display_name": "envta",
   "language": "python",
   "name": "python3"
  },
  "language_info": {
   "codemirror_mode": {
    "name": "ipython",
    "version": 3
   },
   "file_extension": ".py",
   "mimetype": "text/x-python",
   "name": "python",
   "nbconvert_exporter": "python",
   "pygments_lexer": "ipython3",
   "version": "3.11.9"
  }
 },
 "nbformat": 4,
 "nbformat_minor": 5
}
